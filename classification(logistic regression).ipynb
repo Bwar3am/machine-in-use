{
 "cells": [
  {
   "cell_type": "code",
   "execution_count": 1,
   "id": "f0a23f7d-b41d-431d-8f1c-58f682914892",
   "metadata": {},
   "outputs": [
    {
     "name": "stdout",
     "output_type": "stream",
     "text": [
      "Logistic Regression model accuracy (in %): 96.49122807017544\n"
     ]
    },
    {
     "name": "stderr",
     "output_type": "stream",
     "text": [
      "C:\\Users\\barsam\\AppData\\Local\\Programs\\Python\\Python311\\Lib\\site-packages\\sklearn\\linear_model\\_logistic.py:469: ConvergenceWarning: lbfgs failed to converge (status=1):\n",
      "STOP: TOTAL NO. of ITERATIONS REACHED LIMIT.\n",
      "\n",
      "Increase the number of iterations (max_iter) or scale the data as shown in:\n",
      "    https://scikit-learn.org/stable/modules/preprocessing.html\n",
      "Please also refer to the documentation for alternative solver options:\n",
      "    https://scikit-learn.org/stable/modules/linear_model.html#logistic-regression\n",
      "  n_iter_i = _check_optimize_result(\n"
     ]
    }
   ],
   "source": [
    "# import the necessary libraries\n",
    "from sklearn.datasets import load_breast_cancer\n",
    "from sklearn.linear_model import LogisticRegression\n",
    "from sklearn.model_selection import train_test_split\n",
    "from sklearn.metrics import accuracy_score\n",
    "\n",
    "# load the breast cancer dataset\n",
    "X, y = load_breast_cancer(return_X_y=True)\n",
    "\n",
    "# split the train and test dataset\n",
    "X_train, X_test,\\y_train, y_test = train_test_split(X, y,\n",
    "                                       test_size=0.20,\n",
    "                                       random_state=23)\n",
    "# LogisticRegression\n",
    "clf = LogisticRegression(random_state=0)\n",
    "clf.fit(X_train, y_train)\n",
    "\n",
    "# Prediction\n",
    "y_pred = clf.predict(X_test)\n",
    "\n",
    "acc = accuracy_score(y_test, y_pred)\n",
    "print(\"Logistic Regression model accuracy (in %):\", acc*100)\n"
   ]
  },
  {
   "cell_type": "code",
   "execution_count": 2,
   "id": "cb9afa03-883c-42dc-93a1-43d9fbf69543",
   "metadata": {},
   "outputs": [
    {
     "name": "stdout",
     "output_type": "stream",
     "text": [
      "Logistic Regression model accuracy(in %): 96.52294853963839\n"
     ]
    },
    {
     "name": "stderr",
     "output_type": "stream",
     "text": [
      "C:\\Users\\barsam\\AppData\\Local\\Programs\\Python\\Python311\\Lib\\site-packages\\sklearn\\linear_model\\_logistic.py:469: ConvergenceWarning: lbfgs failed to converge (status=1):\n",
      "STOP: TOTAL NO. of ITERATIONS REACHED LIMIT.\n",
      "\n",
      "Increase the number of iterations (max_iter) or scale the data as shown in:\n",
      "    https://scikit-learn.org/stable/modules/preprocessing.html\n",
      "Please also refer to the documentation for alternative solver options:\n",
      "    https://scikit-learn.org/stable/modules/linear_model.html#logistic-regression\n",
      "  n_iter_i = _check_optimize_result(\n"
     ]
    }
   ],
   "source": [
    "from sklearn.model_selection import train_test_split\n",
    "from sklearn import datasets, linear_model, metrics\n",
    "\n",
    "# load the digit dataset\n",
    "digits = datasets.load_digits()\n",
    "\n",
    "# defining feature matrix(X) and response vector(y)\n",
    "X = digits.data\n",
    "y = digits.target\n",
    "\n",
    "# splitting X and y into training and testing sets\n",
    "X_train, X_test,\\\n",
    "    y_train, y_test = train_test_split(X, y,\n",
    "                                       test_size=0.4,\n",
    "                                       random_state=1)\n",
    "\n",
    "# create logistic regression object\n",
    "reg = linear_model.LogisticRegression()\n",
    "\n",
    "# train the model using the training sets\n",
    "reg.fit(X_train, y_train)\n",
    "\n",
    "# making predictions on the testing set\n",
    "y_pred = reg.predict(X_test)\n",
    "\n",
    "# comparing actual response values (y_test)\n",
    "# with predicted response values (y_pred)\n",
    "print(\"Logistic Regression model accuracy(in %):\",\n",
    "      metrics.accuracy_score(y_test, y_pred)*100)\n"
   ]
  }
 ],
 "metadata": {
  "kernelspec": {
   "display_name": "Python 3 (ipykernel)",
   "language": "python",
   "name": "python3"
  },
  "language_info": {
   "codemirror_mode": {
    "name": "ipython",
    "version": 3
   },
   "file_extension": ".py",
   "mimetype": "text/x-python",
   "name": "python",
   "nbconvert_exporter": "python",
   "pygments_lexer": "ipython3",
   "version": "3.11.9"
  }
 },
 "nbformat": 4,
 "nbformat_minor": 5
}
